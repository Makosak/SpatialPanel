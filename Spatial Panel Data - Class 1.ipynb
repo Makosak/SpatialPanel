{
 "cells": [
  {
   "cell_type": "markdown",
   "metadata": {},
   "source": [
    "<h1> Spatial Panel Data </h1>\n",
    "\n",
    "<h3>  Class 1 </h3>\n",
    "\n",
    "Lab Instructor: Giovanni Millo\n",
    "\n"
   ]
  },
  {
   "cell_type": "markdown",
   "metadata": {},
   "source": [
    "<h3> 1. Data Prep </h3> \n",
    "\n",
    "Load the plm package: estiators and tests for panel data, plus some data infrastructure."
   ]
  },
  {
   "cell_type": "code",
   "execution_count": 4,
   "metadata": {
    "collapsed": true
   },
   "outputs": [],
   "source": [
    "library(plm)"
   ]
  },
  {
   "cell_type": "markdown",
   "metadata": {},
   "source": [
    "Load the example dataset."
   ]
  },
  {
   "cell_type": "code",
   "execution_count": 6,
   "metadata": {
    "collapsed": true
   },
   "outputs": [],
   "source": [
    "data(Grunfeld)"
   ]
  },
  {
   "cell_type": "code",
   "execution_count": 7,
   "metadata": {
    "collapsed": false
   },
   "outputs": [
    {
     "data": {
      "text/html": [
       "<table>\n",
       "<thead><tr><th></th><th scope=col>firm</th><th scope=col>year</th><th scope=col>inv</th><th scope=col>value</th><th scope=col>capital</th></tr></thead>\n",
       "<tbody>\n",
       "\t<tr><th scope=row>1</th><td>   1.0</td><td>1935.0</td><td> 317.6</td><td>3078.5</td><td>   2.8</td></tr>\n",
       "\t<tr><th scope=row>2</th><td>   1.0</td><td>1936.0</td><td> 391.8</td><td>4661.7</td><td>  52.6</td></tr>\n",
       "\t<tr><th scope=row>3</th><td>   1.0</td><td>1937.0</td><td> 410.6</td><td>5387.1</td><td> 156.9</td></tr>\n",
       "\t<tr><th scope=row>4</th><td>   1.0</td><td>1938.0</td><td> 257.7</td><td>2792.2</td><td> 209.2</td></tr>\n",
       "\t<tr><th scope=row>5</th><td>   1.0</td><td>1939.0</td><td> 330.8</td><td>4313.2</td><td> 203.4</td></tr>\n",
       "\t<tr><th scope=row>6</th><td>   1.0</td><td>1940.0</td><td> 461.2</td><td>4643.9</td><td> 207.2</td></tr>\n",
       "</tbody>\n",
       "</table>\n"
      ],
      "text/latex": [
       "\\begin{tabular}{r|lllll}\n",
       "  & firm & year & inv & value & capital\\\\\n",
       "\\hline\n",
       "\t1 &    1.0 & 1935.0 &  317.6 & 3078.5 &    2.8\\\\\n",
       "\t2 &    1.0 & 1936.0 &  391.8 & 4661.7 &   52.6\\\\\n",
       "\t3 &    1.0 & 1937.0 &  410.6 & 5387.1 &  156.9\\\\\n",
       "\t4 &    1.0 & 1938.0 &  257.7 & 2792.2 &  209.2\\\\\n",
       "\t5 &    1.0 & 1939.0 &  330.8 & 4313.2 &  203.4\\\\\n",
       "\t6 &    1.0 & 1940.0 &  461.2 & 4643.9 &  207.2\\\\\n",
       "\\end{tabular}\n"
      ],
      "text/plain": [
       "  firm year   inv  value capital\n",
       "1    1 1935 317.6 3078.5     2.8\n",
       "2    1 1936 391.8 4661.7    52.6\n",
       "3    1 1937 410.6 5387.1   156.9\n",
       "4    1 1938 257.7 2792.2   209.2\n",
       "5    1 1939 330.8 4313.2   203.4\n",
       "6    1 1940 461.2 4643.9   207.2"
      ]
     },
     "metadata": {},
     "output_type": "display_data"
    }
   ],
   "source": [
    "head(Grunfeld)"
   ]
  },
  {
   "cell_type": "code",
   "execution_count": 9,
   "metadata": {
    "collapsed": true
   },
   "outputs": [],
   "source": [
    "?Grunfeld"
   ]
  },
  {
   "cell_type": "code",
   "execution_count": 10,
   "metadata": {
    "collapsed": false
   },
   "outputs": [
    {
     "name": "stdout",
     "output_type": "stream",
     "text": [
      "'data.frame':\t200 obs. of  5 variables:\n",
      " $ firm   : int  1 1 1 1 1 1 1 1 1 1 ...\n",
      " $ year   : int  1935 1936 1937 1938 1939 1940 1941 1942 1943 1944 ...\n",
      " $ inv    : num  318 392 411 258 331 ...\n",
      " $ value  : num  3078 4662 5387 2792 4313 ...\n",
      " $ capital: num  2.8 52.6 156.9 209.2 203.4 ...\n"
     ]
    }
   ],
   "source": [
    "str(Grunfeld)"
   ]
  },
  {
   "cell_type": "code",
   "execution_count": 11,
   "metadata": {
    "collapsed": true
   },
   "outputs": [],
   "source": [
    "femod<- plm(formula=inv~value+capital, data=Grunfeld)"
   ]
  },
  {
   "cell_type": "markdown",
   "metadata": {},
   "source": [
    "<h3> 1.2 </h3>"
   ]
  },
  {
   "cell_type": "code",
   "execution_count": 14,
   "metadata": {
    "collapsed": true
   },
   "outputs": [],
   "source": [
    "pgrun<- pdata.frame(Grunfeld, index=c(\"firm\",\"year\"))"
   ]
  },
  {
   "cell_type": "code",
   "execution_count": 15,
   "metadata": {
    "collapsed": false
   },
   "outputs": [
    {
     "data": {
      "text/html": [
       "<ol class=list-inline>\n",
       "\t<li>'pdata.frame'</li>\n",
       "\t<li>'data.frame'</li>\n",
       "</ol>\n"
      ],
      "text/latex": [
       "\\begin{enumerate*}\n",
       "\\item 'pdata.frame'\n",
       "\\item 'data.frame'\n",
       "\\end{enumerate*}\n"
      ],
      "text/markdown": [
       "1. 'pdata.frame'\n",
       "2. 'data.frame'\n",
       "\n",
       "\n"
      ],
      "text/plain": [
       "[1] \"pdata.frame\" \"data.frame\" "
      ]
     },
     "metadata": {},
     "output_type": "display_data"
    }
   ],
   "source": [
    "class(pgrun)"
   ]
  },
  {
   "cell_type": "code",
   "execution_count": 16,
   "metadata": {
    "collapsed": false
   },
   "outputs": [
    {
     "name": "stdout",
     "output_type": "stream",
     "text": [
      "Classes ‘pdata.frame’ and 'data.frame':\t200 obs. of  5 variables:\n",
      " $ firm   : Factor w/ 10 levels \"1\",\"2\",\"3\",\"4\",..: 1 1 1 1 1 1 1 1 1 1 ...\n",
      "  ..- attr(*, \"index\")=Classes ‘pindex’ and 'data.frame':\t200 obs. of  2 variables:\n",
      "  .. ..$ firm: Factor w/ 10 levels \"1\",\"2\",\"3\",\"4\",..: 1 1 1 1 1 1 1 1 1 1 ...\n",
      "  .. ..$ year: Factor w/ 20 levels \"1935\",\"1936\",..: 1 2 3 4 5 6 7 8 9 10 ...\n",
      "  ..- attr(*, \"names\")= chr  \"1-1935\" \"1-1936\" \"1-1937\" \"1-1938\" ...\n",
      " $ year   : Factor w/ 20 levels \"1935\",\"1936\",..: 1 2 3 4 5 6 7 8 9 10 ...\n",
      "  ..- attr(*, \"index\")=Classes ‘pindex’ and 'data.frame':\t200 obs. of  2 variables:\n",
      "  .. ..$ firm: Factor w/ 10 levels \"1\",\"2\",\"3\",\"4\",..: 1 1 1 1 1 1 1 1 1 1 ...\n",
      "  .. ..$ year: Factor w/ 20 levels \"1935\",\"1936\",..: 1 2 3 4 5 6 7 8 9 10 ...\n",
      "  ..- attr(*, \"names\")= chr  \"1-1935\" \"1-1936\" \"1-1937\" \"1-1938\" ...\n",
      " $ inv    :Classes 'pseries', 'numeric'  atomic [1:200] 318 392 411 258 331 ...\n",
      "  .. ..- attr(*, \"index\")=Classes ‘pindex’ and 'data.frame':\t200 obs. of  2 variables:\n",
      "  .. .. ..$ firm: Factor w/ 10 levels \"1\",\"2\",\"3\",\"4\",..: 1 1 1 1 1 1 1 1 1 1 ...\n",
      "  .. .. ..$ year: Factor w/ 20 levels \"1935\",\"1936\",..: 1 2 3 4 5 6 7 8 9 10 ...\n",
      " $ value  :Classes 'pseries', 'numeric'  atomic [1:200] 3078 4662 5387 2792 4313 ...\n",
      "  .. ..- attr(*, \"index\")=Classes ‘pindex’ and 'data.frame':\t200 obs. of  2 variables:\n",
      "  .. .. ..$ firm: Factor w/ 10 levels \"1\",\"2\",\"3\",\"4\",..: 1 1 1 1 1 1 1 1 1 1 ...\n",
      "  .. .. ..$ year: Factor w/ 20 levels \"1935\",\"1936\",..: 1 2 3 4 5 6 7 8 9 10 ...\n",
      " $ capital:Classes 'pseries', 'numeric'  atomic [1:200] 2.8 52.6 156.9 209.2 203.4 ...\n",
      "  .. ..- attr(*, \"index\")=Classes ‘pindex’ and 'data.frame':\t200 obs. of  2 variables:\n",
      "  .. .. ..$ firm: Factor w/ 10 levels \"1\",\"2\",\"3\",\"4\",..: 1 1 1 1 1 1 1 1 1 1 ...\n",
      "  .. .. ..$ year: Factor w/ 20 levels \"1935\",\"1936\",..: 1 2 3 4 5 6 7 8 9 10 ...\n",
      " - attr(*, \"index\")=Classes ‘pindex’ and 'data.frame':\t200 obs. of  2 variables:\n",
      "  ..$ firm: Factor w/ 10 levels \"1\",\"2\",\"3\",\"4\",..: 1 1 1 1 1 1 1 1 1 1 ...\n",
      "  ..$ year: Factor w/ 20 levels \"1935\",\"1936\",..: 1 2 3 4 5 6 7 8 9 10 ...\n"
     ]
    }
   ],
   "source": [
    "str(pgrun)"
   ]
  },
  {
   "cell_type": "code",
   "execution_count": 17,
   "metadata": {
    "collapsed": false
   },
   "outputs": [
    {
     "data": {
      "text/plain": [
       "      firm         year          inv              value        \n",
       " 1      :20   1935   : 10   Min.   :   0.93   Min.   :  58.12  \n",
       " 2      :20   1936   : 10   1st Qu.:  33.56   1st Qu.: 199.97  \n",
       " 3      :20   1937   : 10   Median :  57.48   Median : 517.95  \n",
       " 4      :20   1938   : 10   Mean   : 145.96   Mean   :1081.68  \n",
       " 5      :20   1939   : 10   3rd Qu.: 138.04   3rd Qu.:1679.85  \n",
       " 6      :20   1940   : 10   Max.   :1486.70   Max.   :6241.70  \n",
       " (Other):80   (Other):140                                      \n",
       "    capital       \n",
       " Min.   :   0.80  \n",
       " 1st Qu.:  79.17  \n",
       " Median : 205.60  \n",
       " Mean   : 276.02  \n",
       " 3rd Qu.: 358.10  \n",
       " Max.   :2226.30  \n",
       "                  "
      ]
     },
     "metadata": {},
     "output_type": "display_data"
    }
   ],
   "source": [
    "summary(pgrun)"
   ]
  },
  {
   "cell_type": "code",
   "execution_count": 18,
   "metadata": {
    "collapsed": false
   },
   "outputs": [
    {
     "data": {
      "text/html": [
       "<ol class=list-inline>\n",
       "\t<li>'pseries'</li>\n",
       "\t<li>'numeric'</li>\n",
       "</ol>\n"
      ],
      "text/latex": [
       "\\begin{enumerate*}\n",
       "\\item 'pseries'\n",
       "\\item 'numeric'\n",
       "\\end{enumerate*}\n"
      ],
      "text/markdown": [
       "1. 'pseries'\n",
       "2. 'numeric'\n",
       "\n",
       "\n"
      ],
      "text/plain": [
       "[1] \"pseries\" \"numeric\""
      ]
     },
     "metadata": {},
     "output_type": "display_data"
    }
   ],
   "source": [
    "class(pgrun$capital) # note there are two classes!"
   ]
  },
  {
   "cell_type": "code",
   "execution_count": 19,
   "metadata": {
    "collapsed": false
   },
   "outputs": [
    {
     "name": "stdout",
     "output_type": "stream",
     "text": [
      "Classes 'pseries', 'numeric'  atomic [1:200] 2.8 52.6 156.9 209.2 203.4 ...\n",
      "  ..- attr(*, \"index\")=Classes ‘pindex’ and 'data.frame':\t200 obs. of  2 variables:\n",
      "  .. ..$ firm: Factor w/ 10 levels \"1\",\"2\",\"3\",\"4\",..: 1 1 1 1 1 1 1 1 1 1 ...\n",
      "  .. ..$ year: Factor w/ 20 levels \"1935\",\"1936\",..: 1 2 3 4 5 6 7 8 9 10 ...\n"
     ]
    }
   ],
   "source": [
    "str(pgrun$capital)"
   ]
  },
  {
   "cell_type": "code",
   "execution_count": 21,
   "metadata": {
    "collapsed": false
   },
   "outputs": [
    {
     "data": {
      "text/html": [
       "<dl class=dl-horizontal>\n",
       "\t<dt>1-1935</dt>\n",
       "\t\t<dd>2.8</dd>\n",
       "\t<dt>1-1936</dt>\n",
       "\t\t<dd>52.6</dd>\n",
       "\t<dt>1-1937</dt>\n",
       "\t\t<dd>156.9</dd>\n",
       "\t<dt>1-1938</dt>\n",
       "\t\t<dd>209.2</dd>\n",
       "\t<dt>1-1939</dt>\n",
       "\t\t<dd>203.4</dd>\n",
       "\t<dt>1-1940</dt>\n",
       "\t\t<dd>207.2</dd>\n",
       "</dl>\n"
      ],
      "text/latex": [
       "\\begin{description*}\n",
       "\\item[1-1935] 2.8\n",
       "\\item[1-1936] 52.6\n",
       "\\item[1-1937] 156.9\n",
       "\\item[1-1938] 209.2\n",
       "\\item[1-1939] 203.4\n",
       "\\item[1-1940] 207.2\n",
       "\\end{description*}\n"
      ],
      "text/markdown": [
       "1-1935\n",
       ":   2.81-1936\n",
       ":   52.61-1937\n",
       ":   156.91-1938\n",
       ":   209.21-1939\n",
       ":   203.41-1940\n",
       ":   207.2\n",
       "\n"
      ],
      "text/plain": [
       "1-1935 1-1936 1-1937 1-1938 1-1939 1-1940 \n",
       "   2.8   52.6  156.9  209.2  203.4  207.2 "
      ]
     },
     "metadata": {},
     "output_type": "display_data"
    }
   ],
   "source": [
    "head(pgrun$capital)"
   ]
  },
  {
   "cell_type": "markdown",
   "metadata": {},
   "source": [
    "<h3> 1.3 Estimation interface </h3>"
   ]
  },
  {
   "cell_type": "code",
   "execution_count": 22,
   "metadata": {
    "collapsed": true
   },
   "outputs": [],
   "source": [
    "fm<- inv~value+capital"
   ]
  },
  {
   "cell_type": "code",
   "execution_count": 23,
   "metadata": {
    "collapsed": true
   },
   "outputs": [],
   "source": [
    "olsmod<- lm(formula=fm, data=Grunfeld) #pooling: taking all the data and treating it as independent"
   ]
  },
  {
   "cell_type": "markdown",
   "metadata": {},
   "source": [
    "$$ investment = \\alpha+\\beta_{1} value + \\beta_{2} capital + \\epsilon\n",
    "$$"
   ]
  },
  {
   "cell_type": "code",
   "execution_count": 24,
   "metadata": {
    "collapsed": false
   },
   "outputs": [
    {
     "data": {
      "text/html": [
       "'lm'"
      ],
      "text/latex": [
       "'lm'"
      ],
      "text/markdown": [
       "'lm'"
      ],
      "text/plain": [
       "[1] \"lm\""
      ]
     },
     "metadata": {},
     "output_type": "display_data"
    }
   ],
   "source": [
    "class (olsmod)"
   ]
  },
  {
   "cell_type": "code",
   "execution_count": 34,
   "metadata": {
    "collapsed": true
   },
   "outputs": [],
   "source": [
    "poolmod<- plm(fm, data=Grunfeld, model=\"pooling\") # Standard"
   ]
  },
  {
   "cell_type": "code",
   "execution_count": 35,
   "metadata": {
    "collapsed": false
   },
   "outputs": [
    {
     "data": {
      "text/html": [
       "<ol class=list-inline>\n",
       "\t<li>'plm'</li>\n",
       "\t<li>'panelmodel'</li>\n",
       "</ol>\n"
      ],
      "text/latex": [
       "\\begin{enumerate*}\n",
       "\\item 'plm'\n",
       "\\item 'panelmodel'\n",
       "\\end{enumerate*}\n"
      ],
      "text/markdown": [
       "1. 'plm'\n",
       "2. 'panelmodel'\n",
       "\n",
       "\n"
      ],
      "text/plain": [
       "[1] \"plm\"        \"panelmodel\""
      ]
     },
     "metadata": {},
     "output_type": "display_data"
    }
   ],
   "source": [
    "class(poolmod)"
   ]
  },
  {
   "cell_type": "code",
   "execution_count": 39,
   "metadata": {
    "collapsed": false
   },
   "outputs": [
    {
     "name": "stdout",
     "output_type": "stream",
     "text": [
      "\n",
      "The downloaded binary packages are in\n",
      "\t/var/folders/fn/cb70rqcd437gkgn6__0xr8x00000gn/T//RtmpQ1fnBV/downloaded_packages\n"
     ]
    }
   ],
   "source": [
    "install.packages(\"lmtest\")"
   ]
  },
  {
   "cell_type": "code",
   "execution_count": 40,
   "metadata": {
    "collapsed": false
   },
   "outputs": [
    {
     "name": "stderr",
     "output_type": "stream",
     "text": [
      "Loading required package: zoo\n",
      "\n",
      "Attaching package: ‘zoo’\n",
      "\n",
      "The following objects are masked from ‘package:base’:\n",
      "\n",
      "    as.Date, as.Date.numeric\n",
      "\n"
     ]
    }
   ],
   "source": [
    "library(lmtest)"
   ]
  },
  {
   "cell_type": "code",
   "execution_count": 41,
   "metadata": {
    "collapsed": false
   },
   "outputs": [
    {
     "data": {
      "text/plain": [
       "\n",
       "t test of coefficients:\n",
       "\n",
       "               Estimate  Std. Error t value  Pr(>|t|)    \n",
       "(Intercept) -42.7143694   9.5116760 -4.4907 1.207e-05 ***\n",
       "value         0.1155622   0.0058357 19.8026 < 2.2e-16 ***\n",
       "capital       0.2306785   0.0254758  9.0548 < 2.2e-16 ***\n",
       "---\n",
       "Signif. codes:  0 ‘***’ 0.001 ‘**’ 0.01 ‘*’ 0.05 ‘.’ 0.1 ‘ ’ 1\n"
      ]
     },
     "metadata": {},
     "output_type": "display_data"
    }
   ],
   "source": [
    "coeftest(poolmod)  # testing for heteroskedasticity"
   ]
  },
  {
   "cell_type": "code",
   "execution_count": 42,
   "metadata": {
    "collapsed": false
   },
   "outputs": [
    {
     "data": {
      "text/plain": [
       "\n",
       "t test of coefficients:\n",
       "\n",
       "              Estimate Std. Error t value Pr(>|t|)    \n",
       "(Intercept) -42.714369  19.279431 -2.2155 0.027868 *  \n",
       "value         0.115562   0.015003  7.7027 6.35e-13 ***\n",
       "capital       0.230678   0.080201  2.8763 0.004467 ** \n",
       "---\n",
       "Signif. codes:  0 ‘***’ 0.001 ‘**’ 0.01 ‘*’ 0.05 ‘.’ 0.1 ‘ ’ 1\n"
      ]
     },
     "metadata": {},
     "output_type": "display_data"
    }
   ],
   "source": [
    "coeftest(poolmod, vcov=vcovHC) # Check if standard errors are diff from prev; clustered on individuals"
   ]
  },
  {
   "cell_type": "code",
   "execution_count": 43,
   "metadata": {
    "collapsed": true
   },
   "outputs": [],
   "source": [
    "library(sandwich)"
   ]
  },
  {
   "cell_type": "code",
   "execution_count": 44,
   "metadata": {
    "collapsed": false
   },
   "outputs": [
    {
     "data": {
      "text/plain": [
       "\n",
       "t test of coefficients:\n",
       "\n",
       "               Estimate  Std. Error t value  Pr(>|t|)    \n",
       "(Intercept) -42.7143694  14.0134955 -3.0481  0.002619 ** \n",
       "value         0.1155622   0.0071627 16.1340 < 2.2e-16 ***\n",
       "capital       0.2306785   0.0585099  3.9426  0.000112 ***\n",
       "---\n",
       "Signif. codes:  0 ‘***’ 0.001 ‘**’ 0.01 ‘*’ 0.05 ‘.’ 0.1 ‘ ’ 1\n"
      ]
     },
     "metadata": {},
     "output_type": "display_data"
    }
   ],
   "source": [
    "coeftest(olsmod, vcov=vcovHC)   # Gives you White hetersked test"
   ]
  },
  {
   "cell_type": "code",
   "execution_count": null,
   "metadata": {
    "collapsed": true
   },
   "outputs": [],
   "source": []
  }
 ],
 "metadata": {
  "kernelspec": {
   "display_name": "R",
   "language": "R",
   "name": "ir"
  },
  "language_info": {
   "codemirror_mode": "r",
   "file_extension": ".r",
   "mimetype": "text/x-r-source",
   "name": "R",
   "pygments_lexer": "r",
   "version": "3.2.4"
  }
 },
 "nbformat": 4,
 "nbformat_minor": 0
}
